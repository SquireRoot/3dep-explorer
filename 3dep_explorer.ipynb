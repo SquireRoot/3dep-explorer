{
 "cells": [
  {
   "cell_type": "markdown",
   "metadata": {},
   "source": [
    "## Downloading 3DEP Lidar data\n",
    "\n",
    "1. Visit https://apps.nationalmap.gov/lidar-explorer/#/\n",
    "2. Select the area you would like to download\n",
    "3. On the right pane, under Downloadable Products Within AOI/Lidar within AOI, click the button to the right of Lidar Point Cloud (LPC) to get the download list\n",
    "4. Put the downloadlist.txt file into the root directory of this project"
   ]
  },
  {
   "cell_type": "markdown",
   "metadata": {},
   "source": [
    "## Bash commands to download the data from the download list\n"
   ]
  },
  {
   "cell_type": "code",
   "execution_count": null,
   "metadata": {},
   "outputs": [],
   "source": [
    "!rm -rf data/\n",
    "!mkdir data/\n",
    "!wget -i downloadlist.txt -P data/"
   ]
  },
  {
   "cell_type": "markdown",
   "metadata": {},
   "source": [
    "## Read the lidar data files\n",
    "This step reads the downloaded .laz files in data/, converts the lidar samples to standard gps lat/long/elevation coordinates, and concatenates all the samples into one large array."
   ]
  },
  {
   "cell_type": "code",
   "execution_count": 1,
   "metadata": {},
   "outputs": [],
   "source": [
    "import os\n",
    "import math\n",
    "\n",
    "import laspy\n",
    "from pyproj import CRS\n",
    "from pyproj import Transformer\n",
    "\n",
    "import numpy as np\n",
    "import matplotlib.pyplot as plt\n",
    "from mpl_toolkits.mplot3d import Axes3D\n",
    "%matplotlib widget"
   ]
  },
  {
   "cell_type": "code",
   "execution_count": 2,
   "metadata": {},
   "outputs": [
    {
     "name": "stdout",
     "output_type": "stream",
     "text": [
      "Files contain a total of 6879619 points which amounts to 157.46198272705078 MB\n"
     ]
    }
   ],
   "source": [
    "data_path = 'data/'\n",
    "\n",
    "file_names = os.listdir(data_path)\n",
    "\n",
    "total_point_count = 0\n",
    "\n",
    "for file_name in file_names:    \n",
    "    # open the file with laspy\n",
    "    las_file = laspy.open(data_path + file_name)\n",
    "    total_point_count = total_point_count + las_file.header.point_count\n",
    "\n",
    "    # print(f'File {data_path + file_name} contains {las_file.header.point_count} points')\n",
    "\n",
    "print(f'Files contain a total of {total_point_count} points which amounts to {8*3*(total_point_count/1024)/1024} MB')\n"
   ]
  },
  {
   "cell_type": "code",
   "execution_count": 3,
   "metadata": {},
   "outputs": [
    {
     "name": "stdout",
     "output_type": "stream",
     "text": [
      "File data/USGS_LPC_GA_Statewide_2018_B18_DRRA_e1072n1350.laz:\n",
      "    reading file\n",
      "    transforming and concatinating points\n",
      "Done\n"
     ]
    }
   ],
   "source": [
    "lidar_points_raw = np.zeros((total_point_count, 3), dtype='float64')\n",
    "start_idx = 0\n",
    "\n",
    "for file_name in file_names:\n",
    "    print(f'File {data_path + file_name}:')\n",
    "    print(f'    reading file')\n",
    "\n",
    "    # open the file with laspy\n",
    "    las_file = laspy.read(data_path + file_name)\n",
    "\n",
    "    print(f'    transforming and concatinating points')\n",
    "    # read the spatial reference information    \n",
    "    crs = CRS.from_wkt(las_file.vlrs.get(\"WktCoordinateSystemVlr\")[0].string)\n",
    "\n",
    "    # create a transformer to transform to EPSG:4978, a geocentric cartesian 3d coordinate reference system\n",
    "    transformer = Transformer.from_crs(crs, '4978')\n",
    "\n",
    "    # convert the raw lidar points to gps lat/long\n",
    "    transform_iter = (pt for pt in transformer.itransform(las_file.xyz))\n",
    "    lidar_points_raw[start_idx:(start_idx + las_file.header.point_count), :] = np.fromiter(transform_iter, dtype=((las_file.xyz.dtype, 3)))\n",
    "\n",
    "    start_idx = start_idx + las_file.header.point_count\n",
    "\n",
    "print(\"Done\")"
   ]
  },
  {
   "cell_type": "code",
   "execution_count": 7,
   "metadata": {},
   "outputs": [],
   "source": [
    "# decimation = 1\n",
    "\n",
    "# lidar_points = np.copy(lidar_points_raw[0::decimation, :])\n",
    "\n",
    "# # set coordinate reference to center\n",
    "# avg_lidar_points = np.mean(lidar_points)\n",
    "# lidar_points = lidar_points - avg_lidar_points\n",
    "\n",
    "\n",
    "# # creating figure\n",
    "# plt.ion()\n",
    "# fig = plt.figure()\n",
    "# ax = fig.add_subplot(projection='3d')\n",
    "\n",
    "# # creating the plot\n",
    "# ax.scatter(lidar_points[:, 1], lidar_points[:, 0], lidar_points[:, 2], s=1.0, c=lidar_points[:, 2])\n",
    "# ax.set_title(\"Lidar data\")\n",
    "# ax.set_xlabel(\"Longitute\")\n",
    "# ax.set_ylabel(\"Lattitude\")\n",
    "# plt.show()\n"
   ]
  },
  {
   "cell_type": "markdown",
   "metadata": {},
   "source": [
    "## Generate a 3d surface from the lidar point cloud"
   ]
  },
  {
   "cell_type": "code",
   "execution_count": 4,
   "metadata": {},
   "outputs": [
    {
     "name": "stdout",
     "output_type": "stream",
     "text": [
      "Jupyter environment detected. Enabling Open3D WebVisualizer.\n",
      "[Open3D INFO] WebRTC GUI backend enabled.\n",
      "[Open3D INFO] WebRTCWindowSystem: HTTP handshake server disabled.\n"
     ]
    }
   ],
   "source": [
    "import open3d as o3d\n",
    "\n",
    "pcd = o3d.geometry.PointCloud()\n",
    "pcd.points = o3d.utility.Vector3dVector(lidar_points_raw)\n",
    "cl, ind = pcd.remove_statistical_outlier(nb_neighbors=20, std_ratio=2.0)\n",
    "o3d.visualization.draw_geometries([pcd])\n",
    "\n",
    "# estimate point normals\n",
    "# pcd.estimate_normals()\n",
    "\n",
    "# distances = pcd.compute_nearest_neighbor_distance()\n",
    "# avg_dist = np.mean(distances)\n",
    "# radius = 1.5 * avg_dist   \n",
    "\n",
    "# mesh = o3d.geometry.TriangleMesh.create_from_point_cloud_ball_pivoting(\n",
    "#            pcd, o3d.utility.DoubleVector([radius, radius * 2]))\n",
    "\n",
    "# with o3d.utility.VerbosityContextManager(o3d.utility.VerbosityLevel.Debug) as cm:\n",
    "#     mesh, densities = o3d.geometry.TriangleMesh.create_from_point_cloud_poisson(pcd)\n",
    "\n",
    "# mesh.compute_vertex_normals()\n",
    "# mesh.paint_uniform_color([1, 0.706, 0])\n",
    "# o3d.visualization.draw_geometries([mesh])\n",
    "\n"
   ]
  },
  {
   "cell_type": "code",
   "execution_count": null,
   "metadata": {},
   "outputs": [],
   "source": []
  }
 ],
 "metadata": {
  "kernelspec": {
   "display_name": "Python 3 (ipykernel)",
   "language": "python",
   "name": "python3"
  },
  "language_info": {
   "codemirror_mode": {
    "name": "ipython",
    "version": 3
   },
   "file_extension": ".py",
   "mimetype": "text/x-python",
   "name": "python",
   "nbconvert_exporter": "python",
   "pygments_lexer": "ipython3",
   "version": "3.10.12"
  }
 },
 "nbformat": 4,
 "nbformat_minor": 2
}
